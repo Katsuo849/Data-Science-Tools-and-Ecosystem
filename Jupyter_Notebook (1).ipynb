{
 "cells": [
  {
   "cell_type": "markdown",
   "metadata": {},
   "source": [
    "<center>\n",
    "    <img src=\"https://cf-courses-data.s3.us.cloud-object-storage.appdomain.cloud/IBMDeveloperSkillsNetwork-DS0105EN-SkillsNetwork/labs/Module2/images/SN_web_lightmode.png\" width=\"300\" alt=\"cognitiveclass.ai logo\">\n",
    "</center>\n"
   ]
  },
  {
   "cell_type": "markdown",
   "metadata": {},
   "source": [
    "#### Add your code below following the instructions given in the course\n"
   ]
  },
  {
   "cell_type": "code",
   "execution_count": 1,
   "metadata": {},
   "outputs": [
    {
     "name": "stdout",
     "output_type": "stream",
     "text": [
      "# Data Science Tools and Ecosystem\n"
     ]
    }
   ],
   "source": [
    "# Exercise 2 - Display the title of the notebook\n",
    "print(\"# Data Science Tools and Ecosystem\")"
   ]
  },
  {
   "cell_type": "code",
   "execution_count": 2,
   "metadata": {},
   "outputs": [
    {
     "name": "stdout",
     "output_type": "stream",
     "text": [
      "In this notebook, Data Science Tools and Ecosystem are summarized.\n"
     ]
    }
   ],
   "source": [
    "# Exercise 3 - Display the introduction\n",
    "print(\"In this notebook, Data Science Tools and Ecosystem are summarized.\")"
   ]
  },
  {
   "cell_type": "code",
   "execution_count": 14,
   "metadata": {},
   "outputs": [
    {
     "name": "stdout",
     "output_type": "stream",
     "text": [
      "Some of the popular languages that Data Scientists use are:\n",
      "\n",
      "1. Python\n",
      "2. R\n",
      "3. SQL\n",
      "4. C++\n",
      "5. Java\n"
     ]
    }
   ],
   "source": [
    "# Exercise 4 - List popular data science languages\n",
    "languages = [\"Python\", \"R\", \"SQL\", \"C++\", \"Java\"]\n",
    "print(\"Some of the popular languages that Data Scientists use are:\\n\")\n",
    "for i, lang in enumerate(languages, start=1):\n",
    "    print(f\"{i}. {lang}\")"
   ]
  },
  {
   "cell_type": "code",
   "execution_count": 4,
   "metadata": {},
   "outputs": [
    {
     "name": "stdout",
     "output_type": "stream",
     "text": [
      "Some of the commonly used libraries used by Data Scientists include:\n",
      "\n",
      "1. Pandas\n",
      "2. NumPy\n",
      "3. Matplotlib\n",
      "4. Scikit-learn\n",
      "5. TensorFlow\n"
     ]
    }
   ],
   "source": [
    "# Exercise 5 - List commonly used libraries in data science\n",
    "libraries = [\"Pandas\", \"NumPy\", \"Matplotlib\", \"Scikit-learn\", \"TensorFlow\"]\n",
    "print(\"Some of the commonly used libraries used by Data Scientists include:\\n\")\n",
    "for i, lib in enumerate(libraries, start=1):\n",
    "    print(f\"{i}. {lib}\")"
   ]
  },
  {
   "cell_type": "code",
   "execution_count": 5,
   "metadata": {},
   "outputs": [
    {
     "name": "stdout",
     "output_type": "stream",
     "text": [
      "| Data Science Tools       |\n",
      "|--------------------------|\n",
      "| Jupyter Notebook         |\n",
      "| RStudio                  |\n",
      "| Apache Zeppelin          |\n"
     ]
    }
   ],
   "source": [
    "# Exercise 6 - Create a table of data science tools\n",
    "tools = [\"Jupyter Notebook\", \"RStudio\", \"Apache Zeppelin\"]\n",
    "print(\"| Data Science Tools       |\")\n",
    "print(\"|--------------------------|\")\n",
    "for tool in tools:\n",
    "    print(f\"| {tool:<24} |\")"
   ]
  },
  {
   "cell_type": "code",
   "execution_count": 6,
   "metadata": {},
   "outputs": [
    {
     "name": "stdout",
     "output_type": "stream",
     "text": [
      "### Below are a few examples of evaluating arithmetic expressions in Python.\n"
     ]
    }
   ],
   "source": [
    "# Exercise 7 - Introduction to arithmetic expressions\n",
    "print(\"### Below are a few examples of evaluating arithmetic expressions in Python.\")\n"
   ]
  },
  {
   "cell_type": "code",
   "execution_count": 13,
   "metadata": {},
   "outputs": [
    {
     "name": "stdout",
     "output_type": "stream",
     "text": [
      "Result of (3 * 4) + 5 is: 17\n"
     ]
    }
   ],
   "source": [
    "# Exercise 8 - Multiply and add integers\n",
    "# This is a simple arithmetic expression to multiply then add integers\n",
    "x = (3 * 4) + 5\n",
    "print(\"Result of (3 * 4) + 5 is:\", x)"
   ]
  },
  {
   "cell_type": "code",
   "execution_count": 8,
   "metadata": {},
   "outputs": [
    {
     "name": "stdout",
     "output_type": "stream",
     "text": [
      "200 minutes is equal to 3.33 hours.\n"
     ]
    }
   ],
   "source": [
    "# Exercise 9 - Convert minutes to hours\n",
    "# This will convert 200 minutes to hours by dividing by 60\n",
    "minutes = 200\n",
    "hours = minutes / 60\n",
    "print(f\"{minutes} minutes is equal to {hours:.2f} hours.\")"
   ]
  },
  {
   "cell_type": "code",
   "execution_count": 9,
   "metadata": {},
   "outputs": [
    {
     "name": "stdout",
     "output_type": "stream",
     "text": [
      "**Objectives:**\n",
      "\n",
      "- List popular languages for Data Science\n",
      "- Identify commonly used libraries for Data Science\n",
      "- Demonstrate basic arithmetic operations in Python\n",
      "- Create tables using Markdown in Jupyter\n",
      "- Share Jupyter Notebooks through GitHub\n"
     ]
    }
   ],
   "source": [
    "# Exercise 10 - Display objectives\n",
    "objectives = [\n",
    "    \"List popular languages for Data Science\",\n",
    "    \"Identify commonly used libraries for Data Science\",\n",
    "    \"Demonstrate basic arithmetic operations in Python\",\n",
    "    \"Create tables using Markdown in Jupyter\",\n",
    "    \"Share Jupyter Notebooks through GitHub\"\n",
    "]\n",
    "print(\"**Objectives:**\\n\")\n",
    "for obj in objectives:\n",
    "    print(f\"- {obj}\")"
   ]
  },
  {
   "cell_type": "code",
   "execution_count": 12,
   "metadata": {},
   "outputs": [
    {
     "name": "stdout",
     "output_type": "stream",
     "text": [
      "# Author\n",
      "\n",
      "Katsuo Peña\n"
     ]
    }
   ],
   "source": [
    "# Exercise 11 - Display the author's name\n",
    "print(\"# Author\\n\\nKatsuo Peña\")"
   ]
  },
  {
   "cell_type": "code",
   "execution_count": null,
   "metadata": {},
   "outputs": [],
   "source": []
  }
 ],
 "metadata": {
  "kernelspec": {
   "display_name": "Python 3 (ipykernel)",
   "language": "python",
   "name": "python3"
  },
  "language_info": {
   "codemirror_mode": {
    "name": "ipython",
    "version": 3
   },
   "file_extension": ".py",
   "mimetype": "text/x-python",
   "name": "python",
   "nbconvert_exporter": "python",
   "pygments_lexer": "ipython3",
   "version": "3.12.8"
  }
 },
 "nbformat": 4,
 "nbformat_minor": 4
}
